{
 "metadata": {
  "name": "",
  "signature": "sha256:47a9c4ebc07b9bb5ecd360b6b515e0161787b8883de3ddb8b61c92f232915b01"
 },
 "nbformat": 3,
 "nbformat_minor": 0,
 "worksheets": [
  {
   "cells": [
    {
     "cell_type": "markdown",
     "metadata": {},
     "source": [
      "#Filters and Data Points\n",
      "\n",
      "Pick the file_dir you want from the lines below, set filters, then edit the points so that they agree to the data. Easy as $\\pi$. "
     ]
    },
    {
     "cell_type": "code",
     "collapsed": false,
     "input": [
      "%matplotlib inline\n",
      "import glob\n",
      "import makeplot\n",
      "import classification\n",
      "import seaborn as sns\n",
      "import matplotlib.pyplot as plt\n",
      "\n",
      "my_dir ='/Users/carolinesofiatti/projects/scp/flux_vs_fluxdiff/'\n",
      "#file_dir = 'mc_files_1000_0_5/'\n",
      "file_dir = 'mc_files_1000_-5_0/'\n",
      "#file_dir = 'mc_files_1000_-10_-5/'\n",
      "\n",
      "filter1 = 'f105w'\n",
      "point_flux_filter1 = 1.357 \n",
      "point_flux_filter1_err = 0.2\n",
      "\n",
      "filter2 = 'f140w'\n",
      "point_flux_filter2 = 0.776 \n",
      "point_flux_filter2_err = 0.18\n",
      "\n",
      "filter3 = 'uvf814w'\n",
      "point_flux_filter3 = 0.05\n",
      "point_flux_filter3_err = 0.3"
     ],
     "language": "python",
     "metadata": {},
     "outputs": []
    },
    {
     "cell_type": "markdown",
     "metadata": {},
     "source": [
      "#PDF vs $z$ plots"
     ]
    },
    {
     "cell_type": "code",
     "collapsed": false,
     "input": [
      "pdf, my_z = classification.make_pdf_z_file(my_dir, file_dir, filter1, filter2, filter3, \n",
      "                                           point_flux_filter1, point_flux_filter2,\n",
      "                                           point_flux_filter3)\n",
      "plt.plot(my_z, pdf)\n",
      "\n",
      "sns.set_context(\"talk\")\n",
      "plt.xlabel('z')\n",
      "plt.title('All Filters')\n",
      "plt.ylabel('PDF')\n",
      "plt.legend(['Type Ia', 'Type Ib/c', 'Type II'], loc='upper right')"
     ],
     "language": "python",
     "metadata": {},
     "outputs": []
    },
    {
     "cell_type": "markdown",
     "metadata": {},
     "source": [
      "# Flux vs Flux Difference Contour Plots"
     ]
    },
    {
     "cell_type": "code",
     "collapsed": false,
     "input": [
      "def make_plots(filter1, filter2, pf_filter1, pf_filter1_err, \n",
      "               pf_filter2, pf_filter2_err):\n",
      "    files = []\n",
      "\n",
      "    files_filter1 = glob.glob(my_dir + file_dir + '*' + filter1 + '*.gz')\n",
      "    files_filter2 = glob.glob(my_dir + file_dir + '*' + filter2 + '*.gz')\n",
      "    \n",
      "    files.append(sorted(files_filter1))\n",
      "    files.append(sorted(files_filter2))\n",
      "\n",
      "    \n",
      "    for i,item in enumerate(files[0]):\n",
      "        file_filter1 = files[0][i]\n",
      "        file_filter2 = files[1][i]\n",
      "\n",
      "        print file_filter1\n",
      "        print file_filter2\n",
      "\n",
      "        makeplot.scatter_plot(file_filter1, file_filter2)\n",
      "        makeplot.plot(file_filter1,file_filter2, pf_filter1, \n",
      "                      pf_filter1_err, pf_filter2, \n",
      "                      pf_filter2_err)\n",
      "make_plots(filter1, filter2, point_flux_filter1, point_flux_filter1_err, \n",
      "           point_flux_filter2, point_flux_filter2_err)        \n"
     ],
     "language": "python",
     "metadata": {},
     "outputs": []
    },
    {
     "cell_type": "code",
     "collapsed": false,
     "input": [
      "make_plots(filter3, filter1, point_flux_filter3, point_flux_filter3_err, \n",
      "           point_flux_filter1, point_flux_filter1_err)"
     ],
     "language": "python",
     "metadata": {},
     "outputs": []
    },
    {
     "cell_type": "code",
     "collapsed": false,
     "input": [
      "make_plots(filter3, filter2, point_flux_filter3, point_flux_filter3_err, \n",
      "           point_flux_filter2, point_flux_filter2_err)"
     ],
     "language": "python",
     "metadata": {},
     "outputs": []
    },
    {
     "cell_type": "code",
     "collapsed": false,
     "input": [
      "import numpy as np\n",
      "filename_filter1 = '/Users/carolinesofiatti/projects/scp/flux_vs_fluxdiff/mc_files_1000_-5_0/z065_f105w_mc.gz'\n",
      "filename_filter2 = '/Users/carolinesofiatti/projects/scp/flux_vs_fluxdiff/mc_files_1000_-5_0/z065_f140w_mc.gz'\n",
      "\n",
      "dict_filter1 = makeplot.load(filename_filter1)\n",
      "dict_filter2 = makeplot.load(filename_filter2)\n",
      "type_Ia_flux_filter1 = dict_filter1['type_Ia_flux']\n",
      "type_Ibc_flux_filter1 = dict_filter1['type_Ibc_flux']\n",
      "type_II_flux_filter1 = dict_filter1['type_II_flux']\n",
      "filter1 = dict_filter1['filter']\n",
      "\n",
      "type_Ia_flux_filter2 = dict_filter2['type_Ia_flux']\n",
      "type_Ibc_flux_filter2 = dict_filter2['type_Ibc_flux']\n",
      "type_II_flux_filter2 = dict_filter2['type_II_flux']\n",
      "filter2 = dict_filter2['filter']\n",
      "\n",
      "type_Ia_flux_diff = np.subtract(type_Ia_flux_filter2,type_Ia_flux_filter1)\n",
      "type_Ibc_flux_diff = np.subtract(type_Ibc_flux_filter2,type_Ibc_flux_filter1)\n",
      "type_II_flux_diff = np.subtract(type_II_flux_filter2,type_II_flux_filter1)\n",
      "\n",
      "flux = [type_Ia_flux_filter1, type_Ibc_flux_filter1, type_II_flux_filter1]\n",
      "diff = [type_Ia_flux_diff, type_Ibc_flux_diff, type_II_flux_diff]\n",
      "\n",
      "for i, item in enumerate(flux):\n",
      "    outlier_mask = ( flux[i] < np.percentile(flux[i], 95)) & (diff[i] < np.percentile(diff[i], 95))\n",
      "    flux[i] = flux[i][outlier_mask]\n",
      "    diff[i] = diff[i][outlier_mask]\n",
      "    print len(diff[i]), len(flux[i])\n",
      "    \n",
      "print len(type_Ia_flux_filter1)"
     ],
     "language": "python",
     "metadata": {},
     "outputs": []
    }
   ],
   "metadata": {}
  }
 ]
}